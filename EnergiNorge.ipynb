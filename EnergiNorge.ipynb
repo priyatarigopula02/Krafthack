{
 "cells": [
  {
   "cell_type": "code",
   "execution_count": 1,
   "id": "cognitive-international",
   "metadata": {},
   "outputs": [],
   "source": [
    "import pandas as pd\n",
    "import numpy as np\n"
   ]
  },
  {
   "cell_type": "markdown",
   "id": "fantastic-column",
   "metadata": {},
   "source": [
    "### Functions to pre-process data"
   ]
  },
  {
   "cell_type": "code",
   "execution_count": 2,
   "id": "novel-aquarium",
   "metadata": {},
   "outputs": [],
   "source": [
    "def time_since_start(df):\n",
    "    time_start = np.zeros(len(df))\n",
    "    for i in range(len(df)):\n",
    "        if i ==0 :\n",
    "            time_start[i] =1\n",
    "            \n",
    "        else:\n",
    "            if (df['mode'][i] == 'start') & (df['mode'][i-1] == 'operation') & (df['time_difference'][i] <500):\n",
    "                time_start[i] = 0\n",
    "                \n",
    "            elif (df['mode'][i] == 'start') & (df['mode'][i-1] == 'start') & (df['time_difference'][i] <500):\n",
    "                time_start[i] = time_start[i-1]+ df['time_difference'][i]\n",
    "            \n",
    "            elif (df['mode'][i] == 'start') & (df['time_difference'][i] >500):\n",
    "                time_start[i] = 0\n",
    "                \n",
    "            elif (df['mode'][i] == 'operation'):\n",
    "                time_start[i] = time_start[i-1]\n",
    "                \n",
    "    return time_start"
   ]
  },
  {
   "cell_type": "code",
   "execution_count": 16,
   "id": "unique-orientation",
   "metadata": {},
   "outputs": [],
   "source": [
    "def time_since_operation(df):\n",
    "    time_op = np.zeros(len(df))\n",
    "    for i in range(len(df)):\n",
    "        if i ==0 :\n",
    "            time_op [i] =1\n",
    "            \n",
    "        else:\n",
    "            if (df['mode'][i] == 'operation'):\n",
    "                time_op [i] = time_op[i-1]+ df['time_difference'][i]\n",
    "                                \n",
    "            elif (df['mode'][i] == 'start'):\n",
    "                time_op[i] = 0\n",
    "                \n",
    "    return time_op"
   ]
  },
  {
   "cell_type": "code",
   "execution_count": 3,
   "id": "worth-working",
   "metadata": {},
   "outputs": [],
   "source": [
    "def timepoint_difference(df):\n",
    "    tps =np.array(df.index[:])\n",
    "    tp_diff =np.diff(tps)/np.timedelta64(1, 's') \n",
    "    tp_diff = np.insert(tp_diff, 0 , 1)\n",
    "    return tp_diff"
   ]
  },
  {
   "cell_type": "code",
   "execution_count": 4,
   "id": "incorrect-partnership",
   "metadata": {},
   "outputs": [
    {
     "name": "stdout",
     "output_type": "stream",
     "text": [
      "1874087\n"
     ]
    }
   ],
   "source": [
    "data_2 = pd.read_parquet('input_dataset-2.parquet')\n",
    "print(len(data_2))"
   ]
  },
  {
   "cell_type": "code",
   "execution_count": 5,
   "id": "consistent-implementation",
   "metadata": {},
   "outputs": [
    {
     "name": "stdout",
     "output_type": "stream",
     "text": [
      "       Unit_4_Power  Unit_4_Reactive Power  Turbine_Guide Vane Opening  \\\n",
      "count  1.750000e+06           1.750000e+06                1.750000e+06   \n",
      "mean   2.977542e+02           5.989380e+00                9.105910e+01   \n",
      "std    3.387414e+01           8.155810e+00                8.714153e+00   \n",
      "min    0.000000e+00          -3.811665e+01                0.000000e+00   \n",
      "25%    3.069059e+02           0.000000e+00                9.331226e+01   \n",
      "50%    3.098457e+02           6.300167e+00                9.404115e+01   \n",
      "75%    3.112799e+02           1.117088e+01                9.448438e+01   \n",
      "max    3.233023e+02           4.910232e+01                9.618052e+01   \n",
      "\n",
      "       Turbine_Pressure Drafttube  Turbine_Pressure Spiral Casing  \\\n",
      "count                1.750000e+06                    1.750000e+06   \n",
      "mean                 1.577165e+02                    5.312681e+03   \n",
      "std                  1.909088e+01                    2.990343e+01   \n",
      "min                  1.353587e+02                    3.621803e+03   \n",
      "25%                  1.488042e+02                    5.298511e+03   \n",
      "50%                  1.516418e+02                    5.303462e+03   \n",
      "75%                  1.566876e+02                    5.316882e+03   \n",
      "max                  2.734938e+02                    5.512772e+03   \n",
      "\n",
      "       Turbine_Rotational Speed  Bolt_1_Steel tmp  Bolt_1_Tensile  \\\n",
      "count              1.750000e+06      1.750000e+06    1.750000e+06   \n",
      "mean               1.079521e+02      3.185047e+00    1.613279e+03   \n",
      "std                2.902935e+00      4.765675e-01    1.063794e+01   \n",
      "min                6.264306e-01      2.402152e+00    1.522557e+03   \n",
      "25%                1.080113e+02      2.805074e+00    1.604473e+03   \n",
      "50%                1.080553e+02      3.176576e+00    1.611077e+03   \n",
      "75%                1.080889e+02      3.505450e+00    1.618607e+03   \n",
      "max                1.083688e+02      4.611985e+00    1.640510e+03   \n",
      "\n",
      "       Bolt_2_Tensile  Bolt_3_Tensile  ...  Bolt_5_Tensile  Bolt_6_Tensile  \\\n",
      "count    1.750000e+06    1.750000e+06  ...    1.750000e+06    1.750000e+06   \n",
      "mean     1.490365e+03    1.690256e+03  ...    1.637421e+03    1.679710e+03   \n",
      "std      6.480423e+00    4.674528e+00  ...    2.007034e+00    4.540256e+00   \n",
      "min      1.425511e+03    1.665702e+03  ...    1.587784e+03    1.608899e+03   \n",
      "25%      1.484862e+03    1.686002e+03  ...    1.636916e+03    1.676754e+03   \n",
      "50%      1.489436e+03    1.689645e+03  ...    1.637458e+03    1.677958e+03   \n",
      "75%      1.493730e+03    1.692938e+03  ...    1.637769e+03    1.681526e+03   \n",
      "max      1.505455e+03    1.702324e+03  ...    1.642896e+03    1.694804e+03   \n",
      "\n",
      "       Bolt_1_Torsion  Bolt_2_Torsion  Bolt_3_Torsion  Bolt_4_Torsion  \\\n",
      "count    1.750000e+06    1.750000e+06    1.750000e+06    1.750000e+06   \n",
      "mean     1.784819e+02    1.657813e+02    1.462637e+02    2.257179e+02   \n",
      "std      2.019696e+00    4.113352e+00    2.145015e-01    2.001803e-01   \n",
      "min      1.753436e+02    1.629430e+02    1.457152e+02    2.243099e+02   \n",
      "25%      1.768119e+02    1.632180e+02    1.460956e+02    2.256090e+02   \n",
      "50%      1.783134e+02    1.642139e+02    1.463355e+02    2.257666e+02   \n",
      "75%      1.796520e+02    1.655471e+02    1.464563e+02    2.258674e+02   \n",
      "max      1.834105e+02    1.788814e+02    1.471180e+02    2.260519e+02   \n",
      "\n",
      "       Bolt_5_Torsion  Bolt_6_Torsion  lower_bearing_vib_vrt  \\\n",
      "count    1.750000e+06    1.750000e+06           1.068018e+06   \n",
      "mean     2.986768e+02    1.618114e+02           1.454601e-01   \n",
      "std      7.708676e-01    3.447038e-01           2.508660e-02   \n",
      "min      2.977115e+02    1.608971e+02           5.138796e-02   \n",
      "25%      2.980816e+02    1.616467e+02           1.363742e-01   \n",
      "50%      2.985405e+02    1.618121e+02           1.467246e-01   \n",
      "75%      2.990896e+02    1.620740e+02           1.555545e-01   \n",
      "max      3.012224e+02    1.629766e+02           1.355756e+00   \n",
      "\n",
      "       turbine_bearing_vib_vrt  \n",
      "count             1.068018e+06  \n",
      "mean              4.567642e-01  \n",
      "std               2.421547e-01  \n",
      "min               1.300494e-01  \n",
      "25%               4.458940e-01  \n",
      "50%               4.788169e-01  \n",
      "75%               4.995086e-01  \n",
      "max               5.316383e+01  \n",
      "\n",
      "[8 rows x 21 columns]\n"
     ]
    }
   ],
   "source": [
    "print(data_2.describe())"
   ]
  },
  {
   "cell_type": "code",
   "execution_count": 6,
   "id": "maritime-armstrong",
   "metadata": {},
   "outputs": [
    {
     "data": {
      "text/plain": [
       "['Unit_4_Power',\n",
       " 'Unit_4_Reactive Power',\n",
       " 'Turbine_Guide Vane Opening',\n",
       " 'Turbine_Pressure Drafttube',\n",
       " 'Turbine_Pressure Spiral Casing',\n",
       " 'Turbine_Rotational Speed',\n",
       " 'mode',\n",
       " 'Bolt_1_Steel tmp',\n",
       " 'Bolt_1_Tensile',\n",
       " 'Bolt_2_Tensile',\n",
       " 'Bolt_3_Tensile',\n",
       " 'Bolt_4_Tensile',\n",
       " 'Bolt_5_Tensile',\n",
       " 'Bolt_6_Tensile',\n",
       " 'Bolt_1_Torsion',\n",
       " 'Bolt_2_Torsion',\n",
       " 'Bolt_3_Torsion',\n",
       " 'Bolt_4_Torsion',\n",
       " 'Bolt_5_Torsion',\n",
       " 'Bolt_6_Torsion',\n",
       " 'lower_bearing_vib_vrt',\n",
       " 'turbine_bearing_vib_vrt']"
      ]
     },
     "execution_count": 6,
     "metadata": {},
     "output_type": "execute_result"
    }
   ],
   "source": [
    "list(data_2.columns)"
   ]
  },
  {
   "cell_type": "code",
   "execution_count": 7,
   "id": "following-breeding",
   "metadata": {},
   "outputs": [],
   "source": [
    "#df2_op =data_2.loc[data_2['mode'] == 'operation']"
   ]
  },
  {
   "cell_type": "code",
   "execution_count": 9,
   "id": "handy-combining",
   "metadata": {
    "scrolled": true
   },
   "outputs": [
    {
     "name": "stdout",
     "output_type": "stream",
     "text": [
      "[1. 1. 1. ... 1. 1. 1.]\n",
      "(1874087,)\n",
      "215516.0 1.0 1.7081944434810123 1.0 [ 41517.  45031.  49034.  51465.  73384.  80594. 142272. 147139. 154647.\n",
      " 215516.]\n"
     ]
    }
   ],
   "source": [
    "tp_diff = timepoint_difference(data_2)\n",
    "print(tp_diff)\n",
    "print(tp_diff.shape)\n",
    "print(np.max(tp_diff), np.min(tp_diff), np.mean(tp_diff), np.median(tp_diff), np.sort(tp_diff)[-10:])"
   ]
  },
  {
   "cell_type": "code",
   "execution_count": 10,
   "id": "clean-virtue",
   "metadata": {},
   "outputs": [
    {
     "name": "stdout",
     "output_type": "stream",
     "text": [
      "                     time_difference  Unit_4_Power  Unit_4_Reactive Power  \\\n",
      "timepoints                                                                  \n",
      "1970-12-19 09:51:44              1.0    262.204308               2.899036   \n",
      "1970-12-19 09:51:45              1.0    262.104319               3.344630   \n",
      "1970-12-19 09:51:46              1.0    262.004330               3.790223   \n",
      "1970-12-19 09:51:47              1.0    261.904340               4.235817   \n",
      "1970-12-19 09:51:48              1.0    261.804351               4.064759   \n",
      "...                              ...           ...                    ...   \n",
      "1971-01-25 11:06:44              1.0    308.716025               3.974309   \n",
      "1971-01-25 11:06:45              1.0    308.746393               4.103262   \n",
      "1971-01-25 11:06:46              1.0    308.776762               4.472929   \n",
      "1971-01-25 11:06:47              1.0    308.807131               4.842597   \n",
      "1971-01-25 11:06:48              1.0    308.837499               5.212264   \n",
      "\n",
      "                     Turbine_Guide Vane Opening  Turbine_Pressure Drafttube  \\\n",
      "timepoints                                                                    \n",
      "1970-12-19 09:51:44                   82.279976                  173.955216   \n",
      "1970-12-19 09:51:45                   82.277248                  173.989815   \n",
      "1970-12-19 09:51:46                   82.274520                  174.024413   \n",
      "1970-12-19 09:51:47                   82.271792                  174.059012   \n",
      "1970-12-19 09:51:48                   82.269064                  174.153819   \n",
      "...                                         ...                         ...   \n",
      "1971-01-25 11:06:44                   94.425666                  157.927905   \n",
      "1971-01-25 11:06:45                   94.429003                  157.974925   \n",
      "1971-01-25 11:06:46                   94.432340                  158.021945   \n",
      "1971-01-25 11:06:47                   94.435677                  158.068966   \n",
      "1971-01-25 11:06:48                   94.439014                  158.115137   \n",
      "\n",
      "                     Turbine_Pressure Spiral Casing  Turbine_Rotational Speed  \\\n",
      "timepoints                                                                      \n",
      "1970-12-19 09:51:44                     5310.799181                107.964278   \n",
      "1970-12-19 09:51:45                     5311.219755                107.964273   \n",
      "1970-12-19 09:51:46                     5311.640329                107.964269   \n",
      "1970-12-19 09:51:47                     5312.060902                107.964264   \n",
      "1970-12-19 09:51:48                     5312.405938                107.964259   \n",
      "...                                             ...                       ...   \n",
      "1971-01-25 11:06:44                     5280.929965                108.057498   \n",
      "1971-01-25 11:06:45                     5280.633358                108.057492   \n",
      "1971-01-25 11:06:46                     5280.336751                108.057486   \n",
      "1971-01-25 11:06:47                     5280.040144                108.057479   \n",
      "1971-01-25 11:06:48                     5279.835631                108.057473   \n",
      "\n",
      "                          mode  Bolt_1_Steel tmp  Bolt_1_Tensile  ...  \\\n",
      "timepoints                                                        ...   \n",
      "1970-12-19 09:51:44  operation          4.133996     1598.481390  ...   \n",
      "1970-12-19 09:51:45  operation          4.134078     1598.477449  ...   \n",
      "1970-12-19 09:51:46  operation          4.134731     1598.479316  ...   \n",
      "1970-12-19 09:51:47  operation          4.134270     1598.490184  ...   \n",
      "1970-12-19 09:51:48  operation          4.133583     1598.494073  ...   \n",
      "...                        ...               ...             ...  ...   \n",
      "1971-01-25 11:06:44  operation          4.193937     1637.386115  ...   \n",
      "1971-01-25 11:06:45  operation          4.193254     1637.365865  ...   \n",
      "1971-01-25 11:06:46  operation          4.193261     1637.384133  ...   \n",
      "1971-01-25 11:06:47  operation          4.192795     1637.357141  ...   \n",
      "1971-01-25 11:06:48  operation          4.192640     1637.344985  ...   \n",
      "\n",
      "                     Bolt_5_Tensile  Bolt_6_Tensile  Bolt_1_Torsion  \\\n",
      "timepoints                                                            \n",
      "1970-12-19 09:51:44     1635.585700     1674.848803      175.758460   \n",
      "1970-12-19 09:51:45     1635.588478     1674.823883      175.755164   \n",
      "1970-12-19 09:51:46     1635.583464     1674.841318      175.764601   \n",
      "1970-12-19 09:51:47     1635.581384     1674.843245      175.763157   \n",
      "1970-12-19 09:51:48     1635.591746     1674.872300      175.760959   \n",
      "...                             ...             ...             ...   \n",
      "1971-01-25 11:06:44     1640.704071     1690.014705      183.204777   \n",
      "1971-01-25 11:06:45     1640.711250     1690.017029      183.203293   \n",
      "1971-01-25 11:06:46     1640.699142     1690.002008      183.212397   \n",
      "1971-01-25 11:06:47     1640.685782     1689.995135      183.212669   \n",
      "1971-01-25 11:06:48     1640.698392     1690.004759      183.209714   \n",
      "\n",
      "                     Bolt_2_Torsion  Bolt_3_Torsion  Bolt_4_Torsion  \\\n",
      "timepoints                                                            \n",
      "1970-12-19 09:51:44      163.956613      146.288741      225.535170   \n",
      "1970-12-19 09:51:45      163.951680      146.284164      225.527142   \n",
      "1970-12-19 09:51:46      163.952007      146.283423      225.522291   \n",
      "1970-12-19 09:51:47      163.953924      146.283633      225.535827   \n",
      "1970-12-19 09:51:48      163.951968      146.286946      225.534231   \n",
      "...                             ...             ...             ...   \n",
      "1971-01-25 11:06:44      178.082932      145.759475      225.351989   \n",
      "1971-01-25 11:06:45      178.082287      145.766584      225.348279   \n",
      "1971-01-25 11:06:46      178.081678      145.764007      225.354785   \n",
      "1971-01-25 11:06:47      178.080734      145.763103      225.355483   \n",
      "1971-01-25 11:06:48      178.084189      145.766948      225.356568   \n",
      "\n",
      "                     Bolt_5_Torsion  Bolt_6_Torsion  lower_bearing_vib_vrt  \\\n",
      "timepoints                                                                   \n",
      "1970-12-19 09:51:44      297.780208      161.148100                    NaN   \n",
      "1970-12-19 09:51:45      297.771627      161.145094                    NaN   \n",
      "1970-12-19 09:51:46      297.777115      161.144487                    NaN   \n",
      "1970-12-19 09:51:47      297.772578      161.144037                    NaN   \n",
      "1970-12-19 09:51:48      297.774191      161.151967                    NaN   \n",
      "...                             ...             ...                    ...   \n",
      "1971-01-25 11:06:44      300.667011      160.949816               0.159366   \n",
      "1971-01-25 11:06:45      300.674243      160.947868               0.155962   \n",
      "1971-01-25 11:06:46      300.674078      160.947644               0.141150   \n",
      "1971-01-25 11:06:47      300.675584      160.944036               0.160915   \n",
      "1971-01-25 11:06:48      300.675411      160.947503               0.163011   \n",
      "\n",
      "                     turbine_bearing_vib_vrt  \n",
      "timepoints                                    \n",
      "1970-12-19 09:51:44                      NaN  \n",
      "1970-12-19 09:51:45                      NaN  \n",
      "1970-12-19 09:51:46                      NaN  \n",
      "1970-12-19 09:51:47                      NaN  \n",
      "1970-12-19 09:51:48                      NaN  \n",
      "...                                      ...  \n",
      "1971-01-25 11:06:44                 0.491265  \n",
      "1971-01-25 11:06:45                 0.497242  \n",
      "1971-01-25 11:06:46                 0.501525  \n",
      "1971-01-25 11:06:47                 0.508167  \n",
      "1971-01-25 11:06:48                 0.512094  \n",
      "\n",
      "[1874087 rows x 23 columns]\n"
     ]
    }
   ],
   "source": [
    "new_data2 = pd.DataFrame(data_2)\n",
    "new_data2.insert(0, 'time_difference', tp_diff)\n",
    "print(new_data2)"
   ]
  },
  {
   "cell_type": "code",
   "execution_count": 11,
   "id": "accessible-winner",
   "metadata": {},
   "outputs": [
    {
     "name": "stdout",
     "output_type": "stream",
     "text": [
      "False\n",
      "count    1.868659e+06\n",
      "mean     1.000232e+00\n",
      "std      1.638735e-01\n",
      "min      1.000000e+00\n",
      "25%      1.000000e+00\n",
      "50%      1.000000e+00\n",
      "75%      1.000000e+00\n",
      "max      1.360000e+02\n",
      "Name: time_difference, dtype: float64\n",
      "count      5428.000000\n",
      "mean        245.433309\n",
      "std        5107.189098\n",
      "min           1.000000\n",
      "25%           1.000000\n",
      "50%           1.000000\n",
      "75%           1.000000\n",
      "max      215516.000000\n",
      "Name: time_difference, dtype: float64\n"
     ]
    }
   ],
   "source": [
    "print(np.all(new_data2.loc[new_data2['mode'] == 'start', 'time_difference'] == 0))\n",
    "print((new_data2.loc[new_data2['mode'] == 'operation', 'time_difference']).describe())\n",
    "print((new_data2.loc[new_data2['mode'] == 'start', 'time_difference']).describe())"
   ]
  },
  {
   "cell_type": "code",
   "execution_count": 12,
   "id": "individual-hampshire",
   "metadata": {},
   "outputs": [
    {
     "name": "stdout",
     "output_type": "stream",
     "text": [
      "[  1.   1.   1. ... 211. 211. 211.]\n"
     ]
    }
   ],
   "source": [
    "time_start = time_since_start(new_data2)\n",
    "print(time_start)"
   ]
  },
  {
   "cell_type": "code",
   "execution_count": 13,
   "id": "intended-boards",
   "metadata": {},
   "outputs": [],
   "source": [
    "new_data2.insert(0, 'time_start', time_start)"
   ]
  },
  {
   "cell_type": "code",
   "execution_count": 14,
   "id": "executed-starter",
   "metadata": {},
   "outputs": [
    {
     "name": "stdout",
     "output_type": "stream",
     "text": [
      "count    1.874087e+06\n",
      "mean     1.668366e+02\n",
      "std      8.689492e+01\n",
      "min      0.000000e+00\n",
      "25%      1.880000e+02\n",
      "50%      2.120000e+02\n",
      "75%      2.150000e+02\n",
      "max      2.450000e+02\n",
      "Name: time_start, dtype: float64\n"
     ]
    }
   ],
   "source": [
    "print(new_data2['time_start'].describe())"
   ]
  },
  {
   "cell_type": "code",
   "execution_count": 15,
   "id": "introductory-victim",
   "metadata": {},
   "outputs": [
    {
     "name": "stdout",
     "output_type": "stream",
     "text": [
      "count    5428.000000\n",
      "mean      104.347089\n",
      "std        61.082445\n",
      "min         0.000000\n",
      "25%        52.000000\n",
      "50%       104.000000\n",
      "75%       156.000000\n",
      "max       245.000000\n",
      "Name: time_start, dtype: float64\n",
      "count    1.868659e+06\n",
      "mean     1.670181e+02\n",
      "std      8.689332e+01\n",
      "min      1.000000e+00\n",
      "25%      1.880000e+02\n",
      "50%      2.120000e+02\n",
      "75%      2.150000e+02\n",
      "max      2.450000e+02\n",
      "Name: time_start, dtype: float64\n"
     ]
    }
   ],
   "source": [
    "print(new_data2.loc[new_data2['mode'] == 'start' , 'time_start'].describe())\n",
    "print(new_data2.loc[new_data2['mode'] == 'operation' , 'time_start'].describe())"
   ]
  },
  {
   "cell_type": "code",
   "execution_count": 17,
   "id": "wired-christmas",
   "metadata": {},
   "outputs": [],
   "source": [
    "new_data2.insert(0, 'time_op', time_since_operation(new_data2))"
   ]
  },
  {
   "cell_type": "code",
   "execution_count": 18,
   "id": "amino-heating",
   "metadata": {},
   "outputs": [
    {
     "name": "stdout",
     "output_type": "stream",
     "text": [
      "count    1.874087e+06\n",
      "mean     1.071418e+05\n",
      "std      1.030655e+05\n",
      "min      0.000000e+00\n",
      "25%      2.134600e+04\n",
      "50%      6.686100e+04\n",
      "75%      1.767420e+05\n",
      "max      3.965860e+05\n",
      "Name: time_op, dtype: float64\n"
     ]
    }
   ],
   "source": [
    "print(new_data2['time_op'].describe())"
   ]
  },
  {
   "cell_type": "code",
   "execution_count": null,
   "id": "studied-exhibition",
   "metadata": {},
   "outputs": [],
   "source": []
  }
 ],
 "metadata": {
  "kernelspec": {
   "display_name": "Python [conda env:pyt] *",
   "language": "python",
   "name": "conda-env-pyt-py"
  },
  "language_info": {
   "codemirror_mode": {
    "name": "ipython",
    "version": 3
   },
   "file_extension": ".py",
   "mimetype": "text/x-python",
   "name": "python",
   "nbconvert_exporter": "python",
   "pygments_lexer": "ipython3",
   "version": "3.9.1"
  }
 },
 "nbformat": 4,
 "nbformat_minor": 5
}
