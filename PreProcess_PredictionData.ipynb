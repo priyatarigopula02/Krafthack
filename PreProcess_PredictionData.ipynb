{
 "cells": [
  {
   "cell_type": "markdown",
   "id": "c84323f6",
   "metadata": {
    "toc": true
   },
   "source": [
    "<h1>Table of Contents<span class=\"tocSkip\"></span></h1>\n",
    "<div class=\"toc\"><ul class=\"toc-item\"></ul></div>"
   ]
  },
  {
   "cell_type": "code",
   "execution_count": 1,
   "id": "449242c8",
   "metadata": {
    "ExecuteTime": {
     "end_time": "2022-03-08T06:57:57.560914Z",
     "start_time": "2022-03-08T06:57:57.550117Z"
    }
   },
   "outputs": [],
   "source": [
    "import pandas as pd\n",
    "import numpy as np\n",
    "from sklearn.impute import KNNImputer\n"
   ]
  },
  {
   "cell_type": "code",
   "execution_count": 2,
   "id": "31b2a708",
   "metadata": {
    "ExecuteTime": {
     "end_time": "2022-03-08T06:58:02.218000Z",
     "start_time": "2022-03-08T06:58:02.195104Z"
    }
   },
   "outputs": [],
   "source": [
    "def time_since_start(df):\n",
    "    time_start = np.zeros(len(df))\n",
    "    for i in range(len(df)):\n",
    "        if i == 0:\n",
    "            time_start[i] = 200\n",
    "        else:\n",
    "            if (df['mode'][i] == 'start') & (df['mode'][i - 1] == 'operation') & (df['time_difference'][i] < 10000):\n",
    "                time_start[i] = 0\n",
    "            elif (df['mode'][i] == 'start') & (df['mode'][i - 1] == 'start') & (df['time_difference'][i] < 10000):\n",
    "                time_start[i] = time_start[i - 1] + df['time_difference'][i]\n",
    "            elif (df['time_difference'][i] > 10000):\n",
    "                time_start[i] = 0\n",
    "            elif (df['mode'][i] == 'operation'):\n",
    "                time_start[i] = time_start[i - 1]\n",
    "    return time_start\n",
    "\n",
    "\n",
    "def time_since_operation(df):\n",
    "    time_op = np.zeros(len(df))\n",
    "    for i in range(len(df)):\n",
    "        if i == 0:\n",
    "            time_op[i] = 1\n",
    "        else:\n",
    "            if (df['mode'][i] == 'operation') & (df['time_difference'][i] < 10000):\n",
    "                time_op[i] = time_op[i - 1] + df['time_difference'][i]\n",
    "            elif (df['mode'][i] == 'operation') & (df['time_difference'][i] > 10000):\n",
    "                time_op[i] = time_op[i - 1]\n",
    "            elif (df['mode'][i] == 'start'):\n",
    "                time_op[i] = 0\n",
    "    return time_op\n",
    "\n",
    "def timepoint_difference(df):\n",
    "    tps =np.array(df.index[:])\n",
    "    tp_diff =np.diff(tps)/np.timedelta64(1, 's')\n",
    "    tp_diff = np.insert(tp_diff, 0 , 1)\n",
    "    return tp_diff\n",
    "\n",
    "\n",
    "def track_time(df):\n",
    "    tps =np.array(df.index[:])\n",
    "    tp_diff =(tps-tps[0])/np.timedelta64(1, 's')\n",
    "    return tp_diff\n",
    "\n",
    "def binarize_mode(df):\n",
    "    mode = np.where(df['mode'] == 'start', 0, 1)\n",
    "    return mode"
   ]
  },
  {
   "cell_type": "code",
   "execution_count": 3,
   "id": "4e58e016",
   "metadata": {
    "ExecuteTime": {
     "end_time": "2022-03-08T06:58:22.969312Z",
     "start_time": "2022-03-08T06:58:03.019053Z"
    }
   },
   "outputs": [],
   "source": [
    "\n",
    "def add_features(path_to_data):\n",
    "    data = pd.read_parquet(path_to_data , engine= 'fastparquet')\n",
    "\n",
    "    new_data = pd.DataFrame(data)\n",
    "    new_data.insert(0, 'time_difference', timepoint_difference(data))\n",
    "    new_data.insert(0, 'time_start', time_since_start(new_data))\n",
    "    new_data.insert(0, 'time_op', time_since_operation(new_data))\n",
    "    new_data.insert(0, 'time_2', new_data['time_op'].cumsum()+200793036310) #200793036310 is the cumsum based on previous data\n",
    "    new_data.insert(0, 'track_time', track_time(new_data)+3201304) #3201304 is the last tracked time\n",
    "    new_data.insert(0, 'binary_mode', binarize_mode(new_data))\n",
    "    X = new_data[['time_start', 'time_op', 'track_time', 'time_2', 'Unit_4_Power', 'Turbine_Guide Vane Opening',\n",
    "                  'Turbine_Pressure Drafttube',\n",
    "                  'Turbine_Pressure Spiral Casing', 'Turbine_Rotational Speed', 'binary_mode']].values\n",
    "    \n",
    "    imputer = KNNImputer(n_neighbors=2, weights=\"distance\")\n",
    "    X = imputer.fit_transform(X)\n",
    "    np.savez('prediction_input.npz', X = X)\n"
   ]
  },
  {
   "cell_type": "code",
   "execution_count": 4,
   "id": "dade6acf",
   "metadata": {
    "ExecuteTime": {
     "end_time": "2022-03-08T06:58:23.022603Z",
     "start_time": "2022-03-08T06:58:22.974618Z"
    }
   },
   "outputs": [
    {
     "name": "stdout",
     "output_type": "stream",
     "text": [
      "[[1.00000000e+00 1.00000000e+00 3.20130400e+06 ... 5.27987658e+03\n",
      "  1.08057467e+02 1.00000000e+00]\n",
      " [1.00000000e+00 2.00000000e+00 3.20130500e+06 ... 5.27993084e+03\n",
      "  1.08057460e+02 1.00000000e+00]\n",
      " [1.00000000e+00 3.00000000e+00 3.20130600e+06 ... 5.27998511e+03\n",
      "  1.08057454e+02 1.00000000e+00]\n",
      " ...\n",
      " [2.11000000e+02 1.09046000e+05 4.01187600e+06 ... 5.41963399e+03\n",
      "  1.06722986e+02 1.00000000e+00]\n",
      " [2.11000000e+02 1.09047000e+05 4.01187700e+06 ... 5.42009424e+03\n",
      "  1.06711070e+02 1.00000000e+00]\n",
      " [2.11000000e+02 1.09048000e+05 4.01187800e+06 ... 5.42138596e+03\n",
      "  1.06699154e+02 1.00000000e+00]]\n",
      "(226364, 9)\n",
      "[1.22305495e+02 4.71320010e+04 3.75830811e+06 2.94208361e+02\n",
      " 9.12319994e+01 1.11857950e+02 5.27958223e+03 1.07965453e+02\n",
      " 9.97477514e-01]\n",
      "[2.11000000e+02 1.09048000e+05 4.01187800e+06 1.01421865e+02\n",
      " 4.12043766e+01 1.00034405e+02 5.42138596e+03 1.06699154e+02\n",
      " 1.00000000e+00]\n"
     ]
    }
   ],
   "source": [
    "add_features('prediction_input.parquet')\n",
    "X = np.load('prediction_input.npz')['X']\n",
    "print(X)\n",
    "print(X.shape)\n",
    "print(np.mean(X, axis=0))\n",
    "print(X[-1, :])"
   ]
  },
  {
   "cell_type": "code",
   "execution_count": null,
   "id": "clean-citizen",
   "metadata": {},
   "outputs": [],
   "source": []
  }
 ],
 "metadata": {
  "kernelspec": {
   "display_name": "Python 3",
   "language": "python",
   "name": "python3"
  },
  "language_info": {
   "codemirror_mode": {
    "name": "ipython",
    "version": 3
   },
   "file_extension": ".py",
   "mimetype": "text/x-python",
   "name": "python",
   "nbconvert_exporter": "python",
   "pygments_lexer": "ipython3",
   "version": "3.9.1"
  },
  "toc": {
   "base_numbering": 1,
   "nav_menu": {},
   "number_sections": true,
   "sideBar": true,
   "skip_h1_title": false,
   "title_cell": "Table of Contents",
   "title_sidebar": "Contents",
   "toc_cell": true,
   "toc_position": {},
   "toc_section_display": true,
   "toc_window_display": false
  }
 },
 "nbformat": 4,
 "nbformat_minor": 5
}
