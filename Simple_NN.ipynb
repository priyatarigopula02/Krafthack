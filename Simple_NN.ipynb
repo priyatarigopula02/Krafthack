{
 "cells": [
  {
   "cell_type": "code",
   "execution_count": 1,
   "id": "bright-confidence",
   "metadata": {},
   "outputs": [
    {
     "name": "stdout",
     "output_type": "stream",
     "text": [
      "Device: cuda:0\n"
     ]
    },
    {
     "data": {
      "text/plain": [
       "<Figure size 432x288 with 0 Axes>"
      ]
     },
     "metadata": {},
     "output_type": "display_data"
    }
   ],
   "source": [
    "import numpy as np\n",
    "import torch\n",
    "import torch.utils.data as data\n",
    "import torch.nn as nn\n",
    "import torch.nn.functional as nnf\n",
    "import torch.optim as optim\n",
    "import os\n",
    "\n",
    "from tqdm import tqdm\n",
    "\n",
    "import matplotlib.pyplot as plt\n",
    "from mpl_toolkits.mplot3d import Axes3D\n",
    "from mpl_toolkits.axes_grid1 import make_axes_locatable\n",
    "from matplotlib.cm import coolwarm\n",
    "plt.set_cmap('cividis')\n",
    "\n",
    "# Ensure that all operations are deterministic on GPU (if used) for reproducibility\n",
    "torch.backends.cudnn.determinstic = True\n",
    "torch.backends.cudnn.benchmark = False\n",
    "\n",
    "device = torch.device(\"cuda:0\") if torch.cuda.is_available() else torch.device(\"cpu\")\n",
    "print(\"Device:\", device)"
   ]
  },
  {
   "cell_type": "code",
   "execution_count": 2,
   "id": "welsh-twenty",
   "metadata": {},
   "outputs": [],
   "source": [
    "import torch\n",
    "import torch.nn as nn\n",
    "import torch.nn.functional as F\n",
    "\n",
    "\n",
    "class Net(nn.Module):\n",
    "\n",
    "    def __init__(self):\n",
    "        super(Net, self).__init__()\n",
    "        self.fc1 = nn.Linear(10 , 100)  \n",
    "        self.fc2 = nn.Linear(100, 100)\n",
    "        self.d = nn.Dropout(p=0.5)\n",
    "        self.fc4 = nn.Linear(100, 6)\n",
    "        \n",
    "\n",
    "    def forward(self, x):\n",
    "        #Applying relu non-linearity\n",
    "        x = self.fc1(x)\n",
    "        x = F.leaky_relu(x, negative_slope =0.1)\n",
    "        x = self.fc2(x)\n",
    "        x = F.leaky_relu(x, negative_slope =0.1) \n",
    "        x = self.d(x)\n",
    "        x = self.fc4(x)\n",
    "        return x\n",
    "\n",
    "\n",
    "model = Net()\n"
   ]
  },
  {
   "cell_type": "code",
   "execution_count": 3,
   "id": "faced-consciousness",
   "metadata": {},
   "outputs": [],
   "source": [
    "def normalize(inp_data, out_data = np.zeros(1000)):\n",
    "    \n",
    "    #t_start\n",
    "    inp_data[:,0] /= 600    # 10 mins\n",
    "    #t_operating\n",
    "    inp_data[:,1] = np.log10(inp_data[:,1]+1)/6 # 2 days\n",
    "    #t_tracktime\n",
    "    #inp_data[:,2] /= 2592000   # 1 month\n",
    "    inp_data[:,2] = inp_data[:,2]/(2592000*2)\n",
    "    #t_cumsum\n",
    "    inp_data[:,3] = np.log10(inp_data[:,3]+1)/12 # 2 months\n",
    "    # power \n",
    "    inp_data[:,4] /= 500\n",
    "    #guidevane\n",
    "    inp_data[:,5] /= 180\n",
    "    # draft_pressure\n",
    "    inp_data[:,6] /= 500\n",
    "    # spiral_pressure\n",
    "    inp_data[:,7] /= 10000\n",
    "    # rotational speed\n",
    "    inp_data[:,8] /= 500\n",
    "    \n",
    "    ## output\n",
    "    out_data /= 2000\n",
    "    \n",
    "    return inp_data, out_data\n",
    "    \n",
    "    \n",
    "    "
   ]
  },
  {
   "cell_type": "code",
   "execution_count": 4,
   "id": "alpha-absolute",
   "metadata": {},
   "outputs": [
    {
     "name": "stdout",
     "output_type": "stream",
     "text": [
      "(1350000, 10) (1350000, 6)\n",
      "[1.49223927e+02 1.16750037e+05 8.51013559e+05 9.64145371e+10\n",
      " 2.98626508e+02 9.12187171e+01 1.55861493e+02 5.31218745e+03\n",
      " 1.07874637e+02 9.97639259e-01]\n",
      "[1608.72025976 1487.72319511 1688.32415064 1602.36688526 1636.97079258\n",
      " 1678.00840345]\n",
      "0 0\n",
      "[0.24870655 0.79554728 0.16416157 0.89814276 0.59725302 0.50677065\n",
      " 0.31172299 0.53121874 0.21574927 0.99763926]\n",
      "[0.80436013 0.7438616  0.84416208 0.80118344 0.8184854  0.8390042 ]\n",
      "Max : [0.40833333 0.93305641 0.35996914 0.93313257 0.64660466 0.53433622\n",
      " 0.53671198 0.55127715 0.2167375  1.        ]\n",
      "Max : [0.81010815 0.74734008 0.84716078 0.80274691 0.81949943 0.84172924]\n",
      "[0.21592856 0.21592855 0.21592854 ... 0.21618452 0.21618452 0.21618451]\n",
      "0.4083333333333333\n"
     ]
    }
   ],
   "source": [
    "f_dataset = np.load('Input_to_NN_notNAN.npz', allow_pickle = True)\n",
    "print(f_dataset['X'].shape, f_dataset['Y'].shape )\n",
    "\n",
    "inp_data = f_dataset['X']\n",
    "out_data = f_dataset['Y'] \n",
    "\n",
    "inp_data, out_data = normalize(inp_data, out_data)"
   ]
  },
  {
   "cell_type": "code",
   "execution_count": 5,
   "id": "sporting-procurement",
   "metadata": {},
   "outputs": [],
   "source": [
    "class SeqDataset(data.Dataset):\n",
    "\n",
    "    def __init__(self, dataset , labelset):\n",
    "        super().__init__()\n",
    "        self.data = torch.from_numpy(dataset)\n",
    "        self.labels = torch.from_numpy(labelset)\n",
    "        \n",
    "               \n",
    "    def __len__(self):\n",
    "        return self.data.size()[0]\n",
    "\n",
    "    def __getitem__(self, idx):\n",
    "        inp_data = self.data[idx]\n",
    "        out_data = self.labels[idx]\n",
    "        return inp_data, out_data"
   ]
  },
  {
   "cell_type": "code",
   "execution_count": 6,
   "id": "answering-domestic",
   "metadata": {},
   "outputs": [
    {
     "name": "stdout",
     "output_type": "stream",
     "text": [
      "1350000\n"
     ]
    }
   ],
   "source": [
    "full_dataset = SeqDataset(np.array(inp_data , dtype= 'float32'), np.array(out_data, dtype = 'float32') )\n",
    "print(len(full_dataset))"
   ]
  },
  {
   "cell_type": "code",
   "execution_count": 7,
   "id": "danish-assist",
   "metadata": {},
   "outputs": [
    {
     "name": "stdout",
     "output_type": "stream",
     "text": [
      "944999 135000 270001\n"
     ]
    }
   ],
   "source": [
    "train_size = int(0.7 * len(full_dataset))\n",
    "val_size = int(0.1 * len(full_dataset.data))\n",
    "test_size = len(full_dataset.data)-train_size -val_size\n",
    "batch = 256\n",
    "\n",
    "print(train_size, val_size, test_size)\n",
    "train_dataset, val_dataset, test_dataset = torch.utils.data.random_split(full_dataset, [train_size,val_size, test_size])\n",
    "\n",
    "train_loader = data.DataLoader(train_dataset, batch_size=batch, shuffle=True, drop_last=True, pin_memory=True)\n",
    "val_loader   = data.DataLoader(val_dataset, batch_size=batch)\n",
    "test_loader  = data.DataLoader(test_dataset, batch_size=batch)"
   ]
  },
  {
   "cell_type": "code",
   "execution_count": 8,
   "id": "framed-aquatic",
   "metadata": {},
   "outputs": [
    {
     "name": "stdout",
     "output_type": "stream",
     "text": [
      "Net(\n",
      "  (fc1): Linear(in_features=10, out_features=100, bias=True)\n",
      "  (fc2): Linear(in_features=100, out_features=100, bias=True)\n",
      "  (d): Dropout(p=0.5, inplace=False)\n",
      "  (fc4): Linear(in_features=100, out_features=6, bias=True)\n",
      ")\n"
     ]
    }
   ],
   "source": [
    "model = model.to(device)    \n",
    "print(model)\n",
    "\n",
    "## Initializing optimizer\n",
    "lr=1e-3\n",
    "optimizer = torch.optim.Adam(model.parameters(), lr=lr)"
   ]
  },
  {
   "cell_type": "code",
   "execution_count": 9,
   "id": "worldwide-pressing",
   "metadata": {},
   "outputs": [],
   "source": [
    "def MAPELoss(output, target):\n",
    "    return torch.mean(torch.abs((target - output) / target))  \n",
    "\n",
    "\n",
    "def calculate_loss(data, labels, model, device=torch.device(\"cuda:0\")):\n",
    "    target = model.forward(data)\n",
    "    loss = MAPELoss(target, labels)\n",
    "    l1_lambda = 0.01\n",
    "    l1_reg = torch.tensor(0.).to(device)\n",
    "    for name, params in model.named_parameters() :\n",
    "        if 'fc2' in name:\n",
    "            l1_reg += torch.abs(params).sum()\n",
    "    loss += l1_lambda * l1_reg\n",
    "    return loss, target                  # target = predicted_bolt_tensile\n",
    "\n",
    "\n",
    "def training(model, train_loader, val_loader, epochs, optimizer, checkpoint_path, filename,\n",
    "             device=torch.device(\"cuda:0\"), aux_loss=False):\n",
    "    min_val_loss = np.inf\n",
    "    for epoch in tqdm(range(epochs)):\n",
    "        train_loss = 0.0\n",
    "        model.train()\n",
    "        for i, (data, labels) in enumerate(train_loader):\n",
    "            optimizer.zero_grad()\n",
    "            if torch.cuda.is_available():\n",
    "                data, labels = data.to(device), labels.to(device)\n",
    "            # Calculate Train Loss\n",
    "            loss, _ = calculate_loss(data, labels, model)\n",
    "            # back-propagate Train loss\n",
    "            loss.backward()\n",
    "            optimizer.step()\n",
    "            train_loss += loss.item()\n",
    "\n",
    "        val_loss = 0.0\n",
    "        model.eval()\n",
    "        for data, labels in val_loader:\n",
    "            if torch.cuda.is_available():\n",
    "                data, labels = data.to(device), labels.to(device)\n",
    "            # Calculate Validation Loss\n",
    "            loss, _ = calculate_loss(data, labels, model)\n",
    "            val_loss += loss.item()\n",
    "\n",
    "        print(\n",
    "            f'Epoch {epoch + 1} \\t\\t Training Loss: {train_loss / len(train_loader)} \\t\\t'\n",
    "            f' Validation Loss: {val_loss / len(val_loader)}')\n",
    "\n",
    "        if min_val_loss > val_loss:\n",
    "            print('trigger times: 0')\n",
    "            trigger_times = 0\n",
    "            print(f'Validation Loss Decreased({min_val_loss:.6f}--->{val_loss:.6f}) \\t Saving The Model')\n",
    "            min_val_loss = val_loss\n",
    "            # Saving State Dict\n",
    "            os.makedirs(checkpoint_path, exist_ok=True)\n",
    "            pretrained_filename = os.path.join(checkpoint_path, filename)\n",
    "            torch.save({\n",
    "                'epoch': epoch + 1,\n",
    "                'model_state_dict': model.state_dict(),\n",
    "                'optimizer_state_dict': optimizer.state_dict(),\n",
    "                'val_loss': val_loss}, pretrained_filename)\n",
    "\n",
    "    return model"
   ]
  },
  {
   "cell_type": "code",
   "execution_count": 10,
   "id": "gross-orleans",
   "metadata": {
    "scrolled": true
   },
   "outputs": [
    {
     "name": "stderr",
     "output_type": "stream",
     "text": [
      "\r",
      "  0%|                                                                                          | 0/100 [00:00<?, ?it/s]"
     ]
    },
    {
     "name": "stdout",
     "output_type": "stream",
     "text": [
      "models/trained_models/simple_nn_model_2.pth\n"
     ]
    },
    {
     "name": "stderr",
     "output_type": "stream",
     "text": [
      "\r",
      "  1%|▊                                                                                 | 1/100 [00:23<39:20, 23.84s/it]"
     ]
    },
    {
     "name": "stdout",
     "output_type": "stream",
     "text": [
      "Epoch 1 \t\t Training Loss: 0.10746741042613975 \t\t Validation Loss: 0.013113431420854547\n",
      "trigger times: 0\n",
      "Validation Loss Decreased(inf--->6.923892) \t Saving The Model\n"
     ]
    },
    {
     "name": "stderr",
     "output_type": "stream",
     "text": [
      "\r",
      "  2%|█▋                                                                                | 2/100 [00:47<38:38, 23.66s/it]"
     ]
    },
    {
     "name": "stdout",
     "output_type": "stream",
     "text": [
      "Epoch 2 \t\t Training Loss: 0.013158716433470859 \t\t Validation Loss: 0.012493557113251\n",
      "trigger times: 0\n",
      "Validation Loss Decreased(6.923892--->6.596598) \t Saving The Model\n"
     ]
    },
    {
     "name": "stderr",
     "output_type": "stream",
     "text": [
      "\r",
      "  3%|██▍                                                                               | 3/100 [01:09<37:15, 23.05s/it]"
     ]
    },
    {
     "name": "stdout",
     "output_type": "stream",
     "text": [
      "Epoch 3 \t\t Training Loss: 0.012495769440887566 \t\t Validation Loss: 0.012359978759901203\n",
      "trigger times: 0\n",
      "Validation Loss Decreased(6.596598--->6.526069) \t Saving The Model\n"
     ]
    },
    {
     "name": "stderr",
     "output_type": "stream",
     "text": [
      "\r",
      "  4%|███▎                                                                              | 4/100 [01:32<36:28, 22.79s/it]"
     ]
    },
    {
     "name": "stdout",
     "output_type": "stream",
     "text": [
      "Epoch 4 \t\t Training Loss: 0.012291450953992667 \t\t Validation Loss: 0.011852820010531243\n",
      "trigger times: 0\n",
      "Validation Loss Decreased(6.526069--->6.258289) \t Saving The Model\n"
     ]
    },
    {
     "name": "stderr",
     "output_type": "stream",
     "text": [
      "\r",
      "  5%|████                                                                              | 5/100 [01:54<35:59, 22.73s/it]"
     ]
    },
    {
     "name": "stdout",
     "output_type": "stream",
     "text": [
      "Epoch 5 \t\t Training Loss: 0.012330798376467663 \t\t Validation Loss: 0.012347851262540755\n"
     ]
    },
    {
     "name": "stderr",
     "output_type": "stream",
     "text": [
      "\r",
      "  6%|████▉                                                                             | 6/100 [02:17<35:24, 22.60s/it]"
     ]
    },
    {
     "name": "stdout",
     "output_type": "stream",
     "text": [
      "Epoch 6 \t\t Training Loss: 0.012340277836859162 \t\t Validation Loss: 0.012016644415614957\n"
     ]
    },
    {
     "name": "stderr",
     "output_type": "stream",
     "text": [
      "\r",
      "  7%|█████▋                                                                            | 7/100 [02:39<34:52, 22.50s/it]"
     ]
    },
    {
     "name": "stdout",
     "output_type": "stream",
     "text": [
      "Epoch 7 \t\t Training Loss: 0.01233672866392381 \t\t Validation Loss: 0.012305710187788602\n"
     ]
    },
    {
     "name": "stderr",
     "output_type": "stream",
     "text": [
      "\r",
      "  8%|██████▌                                                                           | 8/100 [03:01<34:25, 22.45s/it]"
     ]
    },
    {
     "name": "stdout",
     "output_type": "stream",
     "text": [
      "Epoch 8 \t\t Training Loss: 0.012291125362005717 \t\t Validation Loss: 0.01204604836653523\n"
     ]
    },
    {
     "name": "stderr",
     "output_type": "stream",
     "text": [
      "\r",
      "  9%|███████▍                                                                          | 9/100 [03:24<33:58, 22.40s/it]"
     ]
    },
    {
     "name": "stdout",
     "output_type": "stream",
     "text": [
      "Epoch 9 \t\t Training Loss: 0.012277422695130763 \t\t Validation Loss: 0.012196221681678611\n"
     ]
    },
    {
     "name": "stderr",
     "output_type": "stream",
     "text": [
      "\r",
      " 10%|████████                                                                         | 10/100 [03:46<33:52, 22.59s/it]"
     ]
    },
    {
     "name": "stdout",
     "output_type": "stream",
     "text": [
      "Epoch 10 \t\t Training Loss: 0.012268791599206746 \t\t Validation Loss: 0.012026529058912825\n"
     ]
    },
    {
     "name": "stderr",
     "output_type": "stream",
     "text": [
      "\r",
      " 11%|████████▉                                                                        | 11/100 [04:09<33:23, 22.52s/it]"
     ]
    },
    {
     "name": "stdout",
     "output_type": "stream",
     "text": [
      "Epoch 11 \t\t Training Loss: 0.012236050266517157 \t\t Validation Loss: 0.01237172848072298\n"
     ]
    },
    {
     "name": "stderr",
     "output_type": "stream",
     "text": [
      "\r",
      " 12%|█████████▋                                                                       | 12/100 [04:31<33:03, 22.54s/it]"
     ]
    },
    {
     "name": "stdout",
     "output_type": "stream",
     "text": [
      "Epoch 12 \t\t Training Loss: 0.01222829218571327 \t\t Validation Loss: 0.012100651369881674\n"
     ]
    },
    {
     "name": "stderr",
     "output_type": "stream",
     "text": [
      "\r",
      " 13%|██████████▌                                                                      | 13/100 [04:54<32:44, 22.58s/it]"
     ]
    },
    {
     "name": "stdout",
     "output_type": "stream",
     "text": [
      "Epoch 13 \t\t Training Loss: 0.012215006593650142 \t\t Validation Loss: 0.012511025884922481\n"
     ]
    },
    {
     "name": "stderr",
     "output_type": "stream",
     "text": [
      "\r",
      " 14%|███████████▎                                                                     | 14/100 [05:16<32:16, 22.52s/it]"
     ]
    },
    {
     "name": "stdout",
     "output_type": "stream",
     "text": [
      "Epoch 14 \t\t Training Loss: 0.012197624323513652 \t\t Validation Loss: 0.011990006090579272\n"
     ]
    },
    {
     "name": "stderr",
     "output_type": "stream",
     "text": [
      "\r",
      " 15%|████████████▏                                                                    | 15/100 [05:40<32:13, 22.74s/it]"
     ]
    },
    {
     "name": "stdout",
     "output_type": "stream",
     "text": [
      "Epoch 15 \t\t Training Loss: 0.012156273486646283 \t\t Validation Loss: 0.012036717902502101\n"
     ]
    },
    {
     "name": "stderr",
     "output_type": "stream",
     "text": [
      "\r",
      " 16%|████████████▉                                                                    | 16/100 [06:03<32:01, 22.88s/it]"
     ]
    },
    {
     "name": "stdout",
     "output_type": "stream",
     "text": [
      "Epoch 16 \t\t Training Loss: 0.012165979641449061 \t\t Validation Loss: 0.012015867027609298\n"
     ]
    },
    {
     "name": "stderr",
     "output_type": "stream",
     "text": [
      "\r",
      " 17%|█████████████▊                                                                   | 17/100 [06:27<32:16, 23.33s/it]"
     ]
    },
    {
     "name": "stdout",
     "output_type": "stream",
     "text": [
      "Epoch 17 \t\t Training Loss: 0.0121765511844179 \t\t Validation Loss: 0.011926323030793079\n"
     ]
    },
    {
     "name": "stderr",
     "output_type": "stream",
     "text": [
      "\r",
      " 18%|██████████████▌                                                                  | 18/100 [06:51<32:10, 23.54s/it]"
     ]
    },
    {
     "name": "stdout",
     "output_type": "stream",
     "text": [
      "Epoch 18 \t\t Training Loss: 0.012145656315936318 \t\t Validation Loss: 0.012120283656810043\n"
     ]
    },
    {
     "name": "stderr",
     "output_type": "stream",
     "text": [
      "\r",
      " 19%|███████████████▍                                                                 | 19/100 [07:15<31:42, 23.48s/it]"
     ]
    },
    {
     "name": "stdout",
     "output_type": "stream",
     "text": [
      "Epoch 19 \t\t Training Loss: 0.01214223385156937 \t\t Validation Loss: 0.01209833182281617\n"
     ]
    },
    {
     "name": "stderr",
     "output_type": "stream",
     "text": [
      "\r",
      " 20%|████████████████▏                                                                | 20/100 [07:40<32:08, 24.11s/it]"
     ]
    },
    {
     "name": "stdout",
     "output_type": "stream",
     "text": [
      "Epoch 20 \t\t Training Loss: 0.012124227029600705 \t\t Validation Loss: 0.011869323917904474\n"
     ]
    },
    {
     "name": "stderr",
     "output_type": "stream",
     "text": [
      "\r",
      " 21%|█████████████████                                                                | 21/100 [08:06<32:25, 24.63s/it]"
     ]
    },
    {
     "name": "stdout",
     "output_type": "stream",
     "text": [
      "Epoch 21 \t\t Training Loss: 0.012090740186941718 \t\t Validation Loss: 0.011713816734933944\n",
      "trigger times: 0\n",
      "Validation Loss Decreased(6.258289--->6.184895) \t Saving The Model\n"
     ]
    },
    {
     "name": "stderr",
     "output_type": "stream",
     "text": [
      "\r",
      " 22%|█████████████████▊                                                               | 22/100 [08:32<32:27, 24.96s/it]"
     ]
    },
    {
     "name": "stdout",
     "output_type": "stream",
     "text": [
      "Epoch 22 \t\t Training Loss: 0.012099020788408221 \t\t Validation Loss: 0.011792496160716948\n"
     ]
    },
    {
     "name": "stderr",
     "output_type": "stream",
     "text": [
      "\r",
      " 23%|██████████████████▋                                                              | 23/100 [08:57<32:12, 25.10s/it]"
     ]
    },
    {
     "name": "stdout",
     "output_type": "stream",
     "text": [
      "Epoch 23 \t\t Training Loss: 0.012072597795340935 \t\t Validation Loss: 0.012068480604229439\n"
     ]
    },
    {
     "name": "stderr",
     "output_type": "stream",
     "text": [
      "\r",
      " 24%|███████████████████▍                                                             | 24/100 [09:21<31:19, 24.73s/it]"
     ]
    },
    {
     "name": "stdout",
     "output_type": "stream",
     "text": [
      "Epoch 24 \t\t Training Loss: 0.012088101861362081 \t\t Validation Loss: 0.011807442085365907\n"
     ]
    },
    {
     "name": "stderr",
     "output_type": "stream",
     "text": [
      "\r",
      " 25%|████████████████████▎                                                            | 25/100 [09:44<30:22, 24.29s/it]"
     ]
    },
    {
     "name": "stdout",
     "output_type": "stream",
     "text": [
      "Epoch 25 \t\t Training Loss: 0.012065487398797018 \t\t Validation Loss: 0.01176933056470289\n"
     ]
    },
    {
     "name": "stderr",
     "output_type": "stream",
     "text": [
      "\r",
      " 26%|█████████████████████                                                            | 26/100 [10:07<29:25, 23.85s/it]"
     ]
    },
    {
     "name": "stdout",
     "output_type": "stream",
     "text": [
      "Epoch 26 \t\t Training Loss: 0.012059058887826995 \t\t Validation Loss: 0.012074740988089505\n"
     ]
    },
    {
     "name": "stderr",
     "output_type": "stream",
     "text": [
      "\r",
      " 27%|█████████████████████▊                                                           | 27/100 [10:31<29:00, 23.85s/it]"
     ]
    },
    {
     "name": "stdout",
     "output_type": "stream",
     "text": [
      "Epoch 27 \t\t Training Loss: 0.01205860393712778 \t\t Validation Loss: 0.011780534544606891\n"
     ]
    },
    {
     "name": "stderr",
     "output_type": "stream",
     "text": [
      "\r",
      " 28%|██████████████████████▋                                                          | 28/100 [10:55<28:29, 23.75s/it]"
     ]
    },
    {
     "name": "stdout",
     "output_type": "stream",
     "text": [
      "Epoch 28 \t\t Training Loss: 0.012011710907360607 \t\t Validation Loss: 0.011871453406373885\n"
     ]
    },
    {
     "name": "stderr",
     "output_type": "stream",
     "text": [
      "\r",
      " 29%|███████████████████████▍                                                         | 29/100 [11:18<27:49, 23.52s/it]"
     ]
    },
    {
     "name": "stdout",
     "output_type": "stream",
     "text": [
      "Epoch 29 \t\t Training Loss: 0.012026745889338898 \t\t Validation Loss: 0.011934760853888072\n"
     ]
    },
    {
     "name": "stderr",
     "output_type": "stream",
     "text": [
      "\r",
      " 30%|████████████████████████▎                                                        | 30/100 [11:40<27:13, 23.34s/it]"
     ]
    },
    {
     "name": "stdout",
     "output_type": "stream",
     "text": [
      "Epoch 30 \t\t Training Loss: 0.012015473611543847 \t\t Validation Loss: 0.011844981396500247\n"
     ]
    },
    {
     "name": "stderr",
     "output_type": "stream",
     "text": [
      "\r",
      " 31%|█████████████████████████                                                        | 31/100 [12:04<27:00, 23.48s/it]"
     ]
    },
    {
     "name": "stdout",
     "output_type": "stream",
     "text": [
      "Epoch 31 \t\t Training Loss: 0.012007933457194548 \t\t Validation Loss: 0.012034463098230348\n"
     ]
    },
    {
     "name": "stderr",
     "output_type": "stream",
     "text": [
      "\r",
      " 32%|█████████████████████████▉                                                       | 32/100 [12:28<26:38, 23.51s/it]"
     ]
    },
    {
     "name": "stdout",
     "output_type": "stream",
     "text": [
      "Epoch 32 \t\t Training Loss: 0.011978400706138691 \t\t Validation Loss: 0.01192298375782698\n"
     ]
    },
    {
     "name": "stderr",
     "output_type": "stream",
     "text": [
      "\r",
      " 33%|██████████████████████████▋                                                      | 33/100 [12:50<25:53, 23.19s/it]"
     ]
    },
    {
     "name": "stdout",
     "output_type": "stream",
     "text": [
      "Epoch 33 \t\t Training Loss: 0.01199379615537142 \t\t Validation Loss: 0.012225870686851329\n"
     ]
    },
    {
     "name": "stderr",
     "output_type": "stream",
     "text": [
      "\r",
      " 34%|███████████████████████████▌                                                     | 34/100 [13:13<25:14, 22.94s/it]"
     ]
    },
    {
     "name": "stdout",
     "output_type": "stream",
     "text": [
      "Epoch 34 \t\t Training Loss: 0.01195838355260695 \t\t Validation Loss: 0.011953128060805753\n"
     ]
    },
    {
     "name": "stderr",
     "output_type": "stream",
     "text": [
      "\r",
      " 35%|████████████████████████████▎                                                    | 35/100 [13:36<25:04, 23.15s/it]"
     ]
    },
    {
     "name": "stdout",
     "output_type": "stream",
     "text": [
      "Epoch 35 \t\t Training Loss: 0.011965524452425332 \t\t Validation Loss: 0.011786894959214173\n"
     ]
    },
    {
     "name": "stderr",
     "output_type": "stream",
     "text": [
      "\r",
      " 36%|█████████████████████████████▏                                                   | 36/100 [13:59<24:33, 23.02s/it]"
     ]
    },
    {
     "name": "stdout",
     "output_type": "stream",
     "text": [
      "Epoch 36 \t\t Training Loss: 0.011964093837750794 \t\t Validation Loss: 0.011829422654541717\n"
     ]
    },
    {
     "name": "stderr",
     "output_type": "stream",
     "text": [
      "\r",
      " 37%|█████████████████████████████▉                                                   | 37/100 [14:22<24:01, 22.88s/it]"
     ]
    },
    {
     "name": "stdout",
     "output_type": "stream",
     "text": [
      "Epoch 37 \t\t Training Loss: 0.011969817251237516 \t\t Validation Loss: 0.011740666325556847\n"
     ]
    },
    {
     "name": "stderr",
     "output_type": "stream",
     "text": [
      "\r",
      " 38%|██████████████████████████████▊                                                  | 38/100 [14:46<24:08, 23.35s/it]"
     ]
    },
    {
     "name": "stdout",
     "output_type": "stream",
     "text": [
      "Epoch 38 \t\t Training Loss: 0.01193097802255009 \t\t Validation Loss: 0.012064520003288195\n"
     ]
    },
    {
     "name": "stderr",
     "output_type": "stream",
     "text": [
      "\r",
      " 39%|███████████████████████████████▌                                                 | 39/100 [15:10<23:49, 23.44s/it]"
     ]
    },
    {
     "name": "stdout",
     "output_type": "stream",
     "text": [
      "Epoch 39 \t\t Training Loss: 0.01195782786691917 \t\t Validation Loss: 0.011826841635135652\n"
     ]
    },
    {
     "name": "stderr",
     "output_type": "stream",
     "text": [
      "\r",
      " 40%|████████████████████████████████▍                                                | 40/100 [15:34<23:38, 23.64s/it]"
     ]
    },
    {
     "name": "stdout",
     "output_type": "stream",
     "text": [
      "Epoch 40 \t\t Training Loss: 0.011943635367012482 \t\t Validation Loss: 0.011969486754175952\n"
     ]
    },
    {
     "name": "stderr",
     "output_type": "stream",
     "text": [
      "\r",
      " 41%|█████████████████████████████████▏                                               | 41/100 [15:58<23:20, 23.73s/it]"
     ]
    },
    {
     "name": "stdout",
     "output_type": "stream",
     "text": [
      "Epoch 41 \t\t Training Loss: 0.011942600257607922 \t\t Validation Loss: 0.011857539090807692\n"
     ]
    },
    {
     "name": "stderr",
     "output_type": "stream",
     "text": [
      "\r",
      " 42%|██████████████████████████████████                                               | 42/100 [16:22<23:01, 23.82s/it]"
     ]
    },
    {
     "name": "stdout",
     "output_type": "stream",
     "text": [
      "Epoch 42 \t\t Training Loss: 0.011952584068409733 \t\t Validation Loss: 0.011723926932917851\n"
     ]
    },
    {
     "name": "stderr",
     "output_type": "stream",
     "text": [
      "\r",
      " 43%|██████████████████████████████████▊                                              | 43/100 [16:46<22:37, 23.82s/it]"
     ]
    },
    {
     "name": "stdout",
     "output_type": "stream",
     "text": [
      "Epoch 43 \t\t Training Loss: 0.011926933132925515 \t\t Validation Loss: 0.012094346603562095\n"
     ]
    },
    {
     "name": "stderr",
     "output_type": "stream",
     "text": [
      "\r",
      " 44%|███████████████████████████████████▋                                             | 44/100 [17:09<22:08, 23.72s/it]"
     ]
    },
    {
     "name": "stdout",
     "output_type": "stream",
     "text": [
      "Epoch 44 \t\t Training Loss: 0.011920119732904971 \t\t Validation Loss: 0.011743247027466581\n"
     ]
    },
    {
     "name": "stderr",
     "output_type": "stream",
     "text": [
      "\r",
      " 45%|████████████████████████████████████▍                                            | 45/100 [17:32<21:28, 23.42s/it]"
     ]
    },
    {
     "name": "stdout",
     "output_type": "stream",
     "text": [
      "Epoch 45 \t\t Training Loss: 0.011925946473994574 \t\t Validation Loss: 0.011705310512545773\n",
      "trigger times: 0\n",
      "Validation Loss Decreased(6.184895--->6.180404) \t Saving The Model\n"
     ]
    },
    {
     "name": "stderr",
     "output_type": "stream",
     "text": [
      "\r",
      " 46%|█████████████████████████████████████▎                                           | 46/100 [17:56<21:14, 23.60s/it]"
     ]
    },
    {
     "name": "stdout",
     "output_type": "stream",
     "text": [
      "Epoch 46 \t\t Training Loss: 0.011923713404690305 \t\t Validation Loss: 0.011599777500977683\n",
      "trigger times: 0\n",
      "Validation Loss Decreased(6.180404--->6.124683) \t Saving The Model\n"
     ]
    },
    {
     "name": "stderr",
     "output_type": "stream",
     "text": [
      "\r",
      " 47%|██████████████████████████████████████                                           | 47/100 [18:21<21:11, 23.99s/it]"
     ]
    },
    {
     "name": "stdout",
     "output_type": "stream",
     "text": [
      "Epoch 47 \t\t Training Loss: 0.011881924370584837 \t\t Validation Loss: 0.01203429902670905\n"
     ]
    },
    {
     "name": "stderr",
     "output_type": "stream",
     "text": [
      "\r",
      " 48%|██████████████████████████████████████▉                                          | 48/100 [18:45<20:50, 24.04s/it]"
     ]
    },
    {
     "name": "stdout",
     "output_type": "stream",
     "text": [
      "Epoch 48 \t\t Training Loss: 0.011906745914239623 \t\t Validation Loss: 0.011669880195492597\n"
     ]
    },
    {
     "name": "stderr",
     "output_type": "stream",
     "text": [
      "\r",
      " 49%|███████████████████████████████████████▋                                         | 49/100 [19:09<20:26, 24.05s/it]"
     ]
    },
    {
     "name": "stdout",
     "output_type": "stream",
     "text": [
      "Epoch 49 \t\t Training Loss: 0.011879937245127745 \t\t Validation Loss: 0.011894949147421303\n"
     ]
    },
    {
     "name": "stderr",
     "output_type": "stream",
     "text": [
      "\r",
      " 50%|████████████████████████████████████████▌                                        | 50/100 [19:33<20:03, 24.08s/it]"
     ]
    },
    {
     "name": "stdout",
     "output_type": "stream",
     "text": [
      "Epoch 50 \t\t Training Loss: 0.01188468812949465 \t\t Validation Loss: 0.011892299035521732\n"
     ]
    },
    {
     "name": "stderr",
     "output_type": "stream",
     "text": [
      "\r",
      " 51%|█████████████████████████████████████████▎                                       | 51/100 [19:57<19:39, 24.07s/it]"
     ]
    },
    {
     "name": "stdout",
     "output_type": "stream",
     "text": [
      "Epoch 51 \t\t Training Loss: 0.011875962540537596 \t\t Validation Loss: 0.011939318159200026\n"
     ]
    },
    {
     "name": "stderr",
     "output_type": "stream",
     "text": [
      "\r",
      " 52%|██████████████████████████████████████████                                       | 52/100 [20:23<19:38, 24.55s/it]"
     ]
    },
    {
     "name": "stdout",
     "output_type": "stream",
     "text": [
      "Epoch 52 \t\t Training Loss: 0.011863322946967406 \t\t Validation Loss: 0.011835054734326673\n"
     ]
    },
    {
     "name": "stderr",
     "output_type": "stream",
     "text": [
      "\r",
      " 53%|██████████████████████████████████████████▉                                      | 53/100 [20:46<18:59, 24.23s/it]"
     ]
    },
    {
     "name": "stdout",
     "output_type": "stream",
     "text": [
      "Epoch 53 \t\t Training Loss: 0.011862736516027827 \t\t Validation Loss: 0.011903877558793421\n"
     ]
    },
    {
     "name": "stderr",
     "output_type": "stream",
     "text": [
      "\r",
      " 54%|███████████████████████████████████████████▋                                     | 54/100 [21:14<19:28, 25.41s/it]"
     ]
    },
    {
     "name": "stdout",
     "output_type": "stream",
     "text": [
      "Epoch 54 \t\t Training Loss: 0.011864304968966633 \t\t Validation Loss: 0.011817338498958357\n"
     ]
    },
    {
     "name": "stderr",
     "output_type": "stream",
     "text": [
      "\r",
      " 55%|████████████████████████████████████████████▌                                    | 55/100 [21:39<18:55, 25.24s/it]"
     ]
    },
    {
     "name": "stdout",
     "output_type": "stream",
     "text": [
      "Epoch 55 \t\t Training Loss: 0.011862638178860567 \t\t Validation Loss: 0.011958068102654634\n"
     ]
    },
    {
     "name": "stderr",
     "output_type": "stream",
     "text": [
      "\r",
      " 56%|█████████████████████████████████████████████▎                                   | 56/100 [22:03<18:05, 24.68s/it]"
     ]
    },
    {
     "name": "stdout",
     "output_type": "stream",
     "text": [
      "Epoch 56 \t\t Training Loss: 0.011848282200932519 \t\t Validation Loss: 0.011806922395022191\n"
     ]
    },
    {
     "name": "stderr",
     "output_type": "stream",
     "text": [
      "\r",
      " 57%|██████████████████████████████████████████████▏                                  | 57/100 [22:27<17:38, 24.61s/it]"
     ]
    },
    {
     "name": "stdout",
     "output_type": "stream",
     "text": [
      "Epoch 57 \t\t Training Loss: 0.011852415130692942 \t\t Validation Loss: 0.011502498736125275\n",
      "trigger times: 0\n",
      "Validation Loss Decreased(6.124683--->6.073319) \t Saving The Model\n"
     ]
    },
    {
     "name": "stderr",
     "output_type": "stream",
     "text": [
      "\r",
      " 58%|██████████████████████████████████████████████▉                                  | 58/100 [22:51<17:10, 24.53s/it]"
     ]
    },
    {
     "name": "stdout",
     "output_type": "stream",
     "text": [
      "Epoch 58 \t\t Training Loss: 0.011835121346546266 \t\t Validation Loss: 0.011793185932081982\n"
     ]
    },
    {
     "name": "stderr",
     "output_type": "stream",
     "text": [
      "\r",
      " 59%|███████████████████████████████████████████████▊                                 | 59/100 [23:15<16:34, 24.26s/it]"
     ]
    },
    {
     "name": "stdout",
     "output_type": "stream",
     "text": [
      "Epoch 59 \t\t Training Loss: 0.011834947674441099 \t\t Validation Loss: 0.011643984487322583\n"
     ]
    },
    {
     "name": "stderr",
     "output_type": "stream",
     "text": [
      "\r",
      " 60%|████████████████████████████████████████████████▌                                | 60/100 [23:39<16:06, 24.16s/it]"
     ]
    },
    {
     "name": "stdout",
     "output_type": "stream",
     "text": [
      "Epoch 60 \t\t Training Loss: 0.011815873032475641 \t\t Validation Loss: 0.012034559860529209\n"
     ]
    },
    {
     "name": "stderr",
     "output_type": "stream",
     "text": [
      "\r",
      " 61%|█████████████████████████████████████████████████▍                               | 61/100 [24:03<15:36, 24.01s/it]"
     ]
    },
    {
     "name": "stdout",
     "output_type": "stream",
     "text": [
      "Epoch 61 \t\t Training Loss: 0.011834312343641417 \t\t Validation Loss: 0.011738923447079618\n"
     ]
    },
    {
     "name": "stderr",
     "output_type": "stream",
     "text": [
      "\r",
      " 62%|██████████████████████████████████████████████████▏                              | 62/100 [24:27<15:16, 24.12s/it]"
     ]
    },
    {
     "name": "stdout",
     "output_type": "stream",
     "text": [
      "Epoch 62 \t\t Training Loss: 0.011834603851139788 \t\t Validation Loss: 0.011684324481228197\n"
     ]
    },
    {
     "name": "stderr",
     "output_type": "stream",
     "text": [
      "\r",
      " 63%|███████████████████████████████████████████████████                              | 63/100 [24:50<14:40, 23.79s/it]"
     ]
    },
    {
     "name": "stdout",
     "output_type": "stream",
     "text": [
      "Epoch 63 \t\t Training Loss: 0.011830623557100255 \t\t Validation Loss: 0.011414999145816899\n",
      "trigger times: 0\n",
      "Validation Loss Decreased(6.073319--->6.027120) \t Saving The Model\n"
     ]
    },
    {
     "name": "stderr",
     "output_type": "stream",
     "text": [
      "\r",
      " 64%|███████████████████████████████████████████████████▊                             | 64/100 [25:13<14:02, 23.39s/it]"
     ]
    },
    {
     "name": "stdout",
     "output_type": "stream",
     "text": [
      "Epoch 64 \t\t Training Loss: 0.011813516894103598 \t\t Validation Loss: 0.01160130463540554\n"
     ]
    },
    {
     "name": "stderr",
     "output_type": "stream",
     "text": [
      "\r",
      " 65%|████████████████████████████████████████████████████▋                            | 65/100 [25:35<13:30, 23.15s/it]"
     ]
    },
    {
     "name": "stdout",
     "output_type": "stream",
     "text": [
      "Epoch 65 \t\t Training Loss: 0.011805688239688538 \t\t Validation Loss: 0.011722475639544427\n"
     ]
    },
    {
     "name": "stderr",
     "output_type": "stream",
     "text": [
      "\r",
      " 66%|█████████████████████████████████████████████████████▍                           | 66/100 [25:58<13:07, 23.15s/it]"
     ]
    },
    {
     "name": "stdout",
     "output_type": "stream",
     "text": [
      "Epoch 66 \t\t Training Loss: 0.011808368351650623 \t\t Validation Loss: 0.011837695649415819\n"
     ]
    },
    {
     "name": "stderr",
     "output_type": "stream",
     "text": [
      "\r",
      " 67%|██████████████████████████████████████████████████████▎                          | 67/100 [26:22<12:53, 23.44s/it]"
     ]
    },
    {
     "name": "stdout",
     "output_type": "stream",
     "text": [
      "Epoch 67 \t\t Training Loss: 0.011798331925286667 \t\t Validation Loss: 0.011801455674382547\n"
     ]
    },
    {
     "name": "stderr",
     "output_type": "stream",
     "text": [
      "\r",
      " 68%|███████████████████████████████████████████████████████                          | 68/100 [26:47<12:38, 23.70s/it]"
     ]
    },
    {
     "name": "stdout",
     "output_type": "stream",
     "text": [
      "Epoch 68 \t\t Training Loss: 0.011792435669583684 \t\t Validation Loss: 0.011842589412646537\n"
     ]
    },
    {
     "name": "stderr",
     "output_type": "stream",
     "text": [
      "\r",
      " 69%|███████████████████████████████████████████████████████▉                         | 69/100 [27:10<12:06, 23.43s/it]"
     ]
    },
    {
     "name": "stdout",
     "output_type": "stream",
     "text": [
      "Epoch 69 \t\t Training Loss: 0.011804853348236555 \t\t Validation Loss: 0.01194554926813439\n"
     ]
    },
    {
     "name": "stderr",
     "output_type": "stream",
     "text": [
      "\r",
      " 70%|████████████████████████████████████████████████████████▋                        | 70/100 [27:32<11:36, 23.22s/it]"
     ]
    },
    {
     "name": "stdout",
     "output_type": "stream",
     "text": [
      "Epoch 70 \t\t Training Loss: 0.011809127477197765 \t\t Validation Loss: 0.011661306466328713\n"
     ]
    },
    {
     "name": "stderr",
     "output_type": "stream",
     "text": [
      "\r",
      " 71%|█████████████████████████████████████████████████████████▌                       | 71/100 [27:55<11:09, 23.09s/it]"
     ]
    },
    {
     "name": "stdout",
     "output_type": "stream",
     "text": [
      "Epoch 71 \t\t Training Loss: 0.011800984830316231 \t\t Validation Loss: 0.012037665126351358\n"
     ]
    },
    {
     "name": "stderr",
     "output_type": "stream",
     "text": [
      "\r",
      " 72%|██████████████████████████████████████████████████████████▎                      | 72/100 [28:18<10:43, 22.99s/it]"
     ]
    },
    {
     "name": "stdout",
     "output_type": "stream",
     "text": [
      "Epoch 72 \t\t Training Loss: 0.01179643358633556 \t\t Validation Loss: 0.011677079624143627\n"
     ]
    },
    {
     "name": "stderr",
     "output_type": "stream",
     "text": [
      "\r",
      " 73%|███████████████████████████████████████████████████████████▏                     | 73/100 [28:41<10:22, 23.05s/it]"
     ]
    },
    {
     "name": "stdout",
     "output_type": "stream",
     "text": [
      "Epoch 73 \t\t Training Loss: 0.011788539067405296 \t\t Validation Loss: 0.011551329035269604\n"
     ]
    },
    {
     "name": "stderr",
     "output_type": "stream",
     "text": [
      "\r",
      " 74%|███████████████████████████████████████████████████████████▉                     | 74/100 [29:04<09:55, 22.91s/it]"
     ]
    },
    {
     "name": "stdout",
     "output_type": "stream",
     "text": [
      "Epoch 74 \t\t Training Loss: 0.011784153660157289 \t\t Validation Loss: 0.011650050275916741\n"
     ]
    },
    {
     "name": "stderr",
     "output_type": "stream",
     "text": [
      "\r",
      " 75%|████████████████████████████████████████████████████████████▊                    | 75/100 [29:26<09:31, 22.85s/it]"
     ]
    },
    {
     "name": "stdout",
     "output_type": "stream",
     "text": [
      "Epoch 75 \t\t Training Loss: 0.011782930414256721 \t\t Validation Loss: 0.011742203394092168\n"
     ]
    },
    {
     "name": "stderr",
     "output_type": "stream",
     "text": [
      "\r",
      " 76%|█████████████████████████████████████████████████████████████▌                   | 76/100 [29:50<09:14, 23.10s/it]"
     ]
    },
    {
     "name": "stdout",
     "output_type": "stream",
     "text": [
      "Epoch 76 \t\t Training Loss: 0.011764872190397433 \t\t Validation Loss: 0.011863696794590038\n"
     ]
    },
    {
     "name": "stderr",
     "output_type": "stream",
     "text": [
      "\r",
      " 77%|██████████████████████████████████████████████████████████████▎                  | 77/100 [30:13<08:47, 22.95s/it]"
     ]
    },
    {
     "name": "stdout",
     "output_type": "stream",
     "text": [
      "Epoch 77 \t\t Training Loss: 0.01176458026000645 \t\t Validation Loss: 0.011728530793775324\n"
     ]
    },
    {
     "name": "stderr",
     "output_type": "stream",
     "text": [
      "\r",
      " 78%|███████████████████████████████████████████████████████████████▏                 | 78/100 [30:35<08:22, 22.85s/it]"
     ]
    },
    {
     "name": "stdout",
     "output_type": "stream",
     "text": [
      "Epoch 78 \t\t Training Loss: 0.011750652440158745 \t\t Validation Loss: 0.011561073062969654\n"
     ]
    },
    {
     "name": "stderr",
     "output_type": "stream",
     "text": [
      "\r",
      " 79%|███████████████████████████████████████████████████████████████▉                 | 79/100 [30:58<07:59, 22.84s/it]"
     ]
    },
    {
     "name": "stdout",
     "output_type": "stream",
     "text": [
      "Epoch 79 \t\t Training Loss: 0.011734426812607158 \t\t Validation Loss: 0.01164314784920972\n"
     ]
    },
    {
     "name": "stderr",
     "output_type": "stream",
     "text": [
      "\r",
      " 80%|████████████████████████████████████████████████████████████████▊                | 80/100 [31:21<07:35, 22.76s/it]"
     ]
    },
    {
     "name": "stdout",
     "output_type": "stream",
     "text": [
      "Epoch 80 \t\t Training Loss: 0.01174619429739986 \t\t Validation Loss: 0.011677406391368784\n"
     ]
    },
    {
     "name": "stderr",
     "output_type": "stream",
     "text": [
      "\r",
      " 81%|█████████████████████████████████████████████████████████████████▌               | 81/100 [31:43<07:12, 22.74s/it]"
     ]
    },
    {
     "name": "stdout",
     "output_type": "stream",
     "text": [
      "Epoch 81 \t\t Training Loss: 0.011753313288807191 \t\t Validation Loss: 0.011583808613729409\n"
     ]
    },
    {
     "name": "stderr",
     "output_type": "stream",
     "text": [
      "\r",
      " 82%|██████████████████████████████████████████████████████████████████▍              | 82/100 [32:06<06:48, 22.71s/it]"
     ]
    },
    {
     "name": "stdout",
     "output_type": "stream",
     "text": [
      "Epoch 82 \t\t Training Loss: 0.011749955178047947 \t\t Validation Loss: 0.011524699203260807\n"
     ]
    },
    {
     "name": "stderr",
     "output_type": "stream",
     "text": [
      "\r",
      " 83%|███████████████████████████████████████████████████████████████████▏             | 83/100 [32:29<06:25, 22.69s/it]"
     ]
    },
    {
     "name": "stdout",
     "output_type": "stream",
     "text": [
      "Epoch 83 \t\t Training Loss: 0.011741210479189374 \t\t Validation Loss: 0.011519035671936404\n"
     ]
    },
    {
     "name": "stderr",
     "output_type": "stream",
     "text": [
      "\r",
      " 84%|████████████████████████████████████████████████████████████████████             | 84/100 [32:52<06:08, 23.04s/it]"
     ]
    },
    {
     "name": "stdout",
     "output_type": "stream",
     "text": [
      "Epoch 84 \t\t Training Loss: 0.0117339070102155 \t\t Validation Loss: 0.011678534551086186\n"
     ]
    },
    {
     "name": "stderr",
     "output_type": "stream",
     "text": [
      "\r",
      " 85%|████████████████████████████████████████████████████████████████████▊            | 85/100 [33:17<05:50, 23.40s/it]"
     ]
    },
    {
     "name": "stdout",
     "output_type": "stream",
     "text": [
      "Epoch 85 \t\t Training Loss: 0.011721365611250324 \t\t Validation Loss: 0.011670154110161644\n"
     ]
    },
    {
     "name": "stderr",
     "output_type": "stream",
     "text": [
      "\r",
      " 86%|█████████████████████████████████████████████████████████████████████▋           | 86/100 [33:41<05:29, 23.56s/it]"
     ]
    },
    {
     "name": "stdout",
     "output_type": "stream",
     "text": [
      "Epoch 86 \t\t Training Loss: 0.011745635130922345 \t\t Validation Loss: 0.011558954700982818\n"
     ]
    },
    {
     "name": "stderr",
     "output_type": "stream",
     "text": [
      "\r",
      " 87%|██████████████████████████████████████████████████████████████████████▍          | 87/100 [34:05<05:08, 23.70s/it]"
     ]
    },
    {
     "name": "stdout",
     "output_type": "stream",
     "text": [
      "Epoch 87 \t\t Training Loss: 0.011743741572979131 \t\t Validation Loss: 0.011481305046331589\n"
     ]
    },
    {
     "name": "stderr",
     "output_type": "stream",
     "text": [
      "\r",
      " 88%|███████████████████████████████████████████████████████████████████████▎         | 88/100 [34:29<04:48, 24.04s/it]"
     ]
    },
    {
     "name": "stdout",
     "output_type": "stream",
     "text": [
      "Epoch 88 \t\t Training Loss: 0.011730873211663174 \t\t Validation Loss: 0.011794414258364475\n"
     ]
    },
    {
     "name": "stderr",
     "output_type": "stream",
     "text": [
      "\r",
      " 89%|████████████████████████████████████████████████████████████████████████         | 89/100 [34:54<04:26, 24.18s/it]"
     ]
    },
    {
     "name": "stdout",
     "output_type": "stream",
     "text": [
      "Epoch 89 \t\t Training Loss: 0.011730230611702818 \t\t Validation Loss: 0.01155869071336576\n"
     ]
    },
    {
     "name": "stderr",
     "output_type": "stream",
     "text": [
      "\r",
      " 90%|████████████████████████████████████████████████████████████████████████▉        | 90/100 [35:18<04:02, 24.27s/it]"
     ]
    },
    {
     "name": "stdout",
     "output_type": "stream",
     "text": [
      "Epoch 90 \t\t Training Loss: 0.011723452037999184 \t\t Validation Loss: 0.011732014582252525\n"
     ]
    },
    {
     "name": "stderr",
     "output_type": "stream",
     "text": [
      "\r",
      " 91%|█████████████████████████████████████████████████████████████████████████▋       | 91/100 [35:43<03:39, 24.41s/it]"
     ]
    },
    {
     "name": "stdout",
     "output_type": "stream",
     "text": [
      "Epoch 91 \t\t Training Loss: 0.011738725471106189 \t\t Validation Loss: 0.011614816427357833\n"
     ]
    },
    {
     "name": "stderr",
     "output_type": "stream",
     "text": [
      "\r",
      " 92%|██████████████████████████████████████████████████████████████████████████▌      | 92/100 [36:08<03:15, 24.50s/it]"
     ]
    },
    {
     "name": "stdout",
     "output_type": "stream",
     "text": [
      "Epoch 92 \t\t Training Loss: 0.011725985804641837 \t\t Validation Loss: 0.01172092296253664\n"
     ]
    },
    {
     "name": "stderr",
     "output_type": "stream",
     "text": [
      "\r",
      " 93%|███████████████████████████████████████████████████████████████████████████▎     | 93/100 [36:31<02:48, 24.02s/it]"
     ]
    },
    {
     "name": "stdout",
     "output_type": "stream",
     "text": [
      "Epoch 93 \t\t Training Loss: 0.011727623880692725 \t\t Validation Loss: 0.011454975759878642\n"
     ]
    },
    {
     "name": "stderr",
     "output_type": "stream",
     "text": [
      "\r",
      " 94%|████████████████████████████████████████████████████████████████████████████▏    | 94/100 [36:53<02:21, 23.55s/it]"
     ]
    },
    {
     "name": "stdout",
     "output_type": "stream",
     "text": [
      "Epoch 94 \t\t Training Loss: 0.011681246079213814 \t\t Validation Loss: 0.011484273035559014\n"
     ]
    },
    {
     "name": "stderr",
     "output_type": "stream",
     "text": [
      "\r",
      " 95%|████████████████████████████████████████████████████████████████████████████▉    | 95/100 [37:16<01:56, 23.39s/it]"
     ]
    },
    {
     "name": "stdout",
     "output_type": "stream",
     "text": [
      "Epoch 95 \t\t Training Loss: 0.011728797056965794 \t\t Validation Loss: 0.011599121124935195\n"
     ]
    },
    {
     "name": "stderr",
     "output_type": "stream",
     "text": [
      "\r",
      " 96%|█████████████████████████████████████████████████████████████████████████████▊   | 96/100 [37:39<01:33, 23.29s/it]"
     ]
    },
    {
     "name": "stdout",
     "output_type": "stream",
     "text": [
      "Epoch 96 \t\t Training Loss: 0.011734522738327698 \t\t Validation Loss: 0.011691271609654932\n"
     ]
    },
    {
     "name": "stderr",
     "output_type": "stream",
     "text": [
      "\r",
      " 97%|██████████████████████████████████████████████████████████████████████████████▌  | 97/100 [38:03<01:10, 23.45s/it]"
     ]
    },
    {
     "name": "stdout",
     "output_type": "stream",
     "text": [
      "Epoch 97 \t\t Training Loss: 0.011710376550895884 \t\t Validation Loss: 0.011709689730637227\n"
     ]
    },
    {
     "name": "stderr",
     "output_type": "stream",
     "text": [
      "\r",
      " 98%|███████████████████████████████████████████████████████████████████████████████▍ | 98/100 [38:26<00:46, 23.23s/it]"
     ]
    },
    {
     "name": "stdout",
     "output_type": "stream",
     "text": [
      "Epoch 98 \t\t Training Loss: 0.011709729592567922 \t\t Validation Loss: 0.01168203478410953\n"
     ]
    },
    {
     "name": "stderr",
     "output_type": "stream",
     "text": [
      "\r",
      " 99%|████████████████████████████████████████████████████████████████████████████████▏| 99/100 [38:48<00:23, 23.03s/it]"
     ]
    },
    {
     "name": "stdout",
     "output_type": "stream",
     "text": [
      "Epoch 99 \t\t Training Loss: 0.011726369423500586 \t\t Validation Loss: 0.01171353172729582\n"
     ]
    },
    {
     "name": "stderr",
     "output_type": "stream",
     "text": [
      "100%|████████████████████████████████████████████████████████████████████████████████| 100/100 [39:12<00:00, 23.53s/it]"
     ]
    },
    {
     "name": "stdout",
     "output_type": "stream",
     "text": [
      "Epoch 100 \t\t Training Loss: 0.011711082110634118 \t\t Validation Loss: 0.01178574704416943\n"
     ]
    },
    {
     "name": "stderr",
     "output_type": "stream",
     "text": [
      "\n"
     ]
    }
   ],
   "source": [
    "available_filename = ['simple_nn_model.pth']\n",
    "# Path to the folder where the pretrained models are saved\n",
    "CHECKPOINT_PATH = \"models/trained_models/\"\n",
    "\n",
    "# Check whether pretrained model exists. If yes, load it and skip training\n",
    "pretrained_filename = os.path.join(CHECKPOINT_PATH, available_filename[0]  )\n",
    "print(pretrained_filename)\n",
    "if os.path.isfile(pretrained_filename):\n",
    "    print(\"Found pretrained model, loading...\")\n",
    "    checkpoint = torch.load(pretrained_filename)\n",
    "    model.load_state_dict(checkpoint['model_state_dict'])\n",
    "    optimizer.load_state_dict(checkpoint['optimizer_state_dict'])\n",
    "    epoch = checkpoint['epoch']\n",
    "    val_loss = checkpoint['val_loss']\n",
    "    print(epoch)\n",
    "else:\n",
    "    model = training(model, train_loader, val_loader, 100, optimizer, CHECKPOINT_PATH, available_filename[0],device)"
   ]
  },
  {
   "cell_type": "code",
   "execution_count": 11,
   "id": "abstract-relief",
   "metadata": {},
   "outputs": [
    {
     "name": "stderr",
     "output_type": "stream",
     "text": [
      "1055it [00:04, 261.15it/s]"
     ]
    },
    {
     "name": "stdout",
     "output_type": "stream",
     "text": [
      "Loss: 0.011416346066017852\n"
     ]
    },
    {
     "name": "stderr",
     "output_type": "stream",
     "text": [
      "\n"
     ]
    }
   ],
   "source": [
    "checkpoint = torch.load(pretrained_filename)\n",
    "model.load_state_dict(checkpoint['model_state_dict'])\n",
    "\n",
    "model.eval()\n",
    "test_loss = 0.0\n",
    "\n",
    "with torch.no_grad():\n",
    "    for i, (data, labels) in tqdm(enumerate(test_loader)):\n",
    "        if torch.cuda.is_available():\n",
    "            data, labels = data.to(device), labels.to(device)\n",
    "        loss, target = calculate_loss(data, labels, model)  \n",
    "        test_loss += loss.item()\n",
    "\n",
    "print(\"Loss:\", test_loss / len(test_loader))"
   ]
  },
  {
   "cell_type": "markdown",
   "id": "everyday-outside",
   "metadata": {},
   "source": [
    "## Prediction Data"
   ]
  },
  {
   "cell_type": "code",
   "execution_count": 30,
   "id": "detailed-distributor",
   "metadata": {},
   "outputs": [
    {
     "name": "stdout",
     "output_type": "stream",
     "text": [
      "(226364, 10)\n",
      "torch.Size([226364, 6])\n"
     ]
    }
   ],
   "source": [
    "prediction_input = np.load('prediction_input.npz')\n",
    "print(prediction_input['X'].shape)\n",
    "\n",
    "pred_inp,_ = normalize(prediction_input['X'])\n",
    "pred_inp = torch.tensor(pred_inp.astype('float32')).to(device)\n",
    "\n",
    "pred_target = model.forward(pred_inp)\n",
    "print(pred_target.shape)\n",
    "\n",
    "\n"
   ]
  },
  {
   "cell_type": "code",
   "execution_count": 31,
   "id": "liberal-basement",
   "metadata": {},
   "outputs": [],
   "source": [
    "pred_target = pred_target.detach().cpu().numpy()*2000  # denormalizing based on our training regime"
   ]
  },
  {
   "cell_type": "code",
   "execution_count": 38,
   "id": "quick-begin",
   "metadata": {},
   "outputs": [
    {
     "data": {
      "text/plain": [
       "<matplotlib.legend.Legend at 0x1e08aba1a90>"
      ]
     },
     "execution_count": 38,
     "metadata": {},
     "output_type": "execute_result"
    },
    {
     "data": {
      "image/png": "[encoded data removed]",
      "text/plain": [
       "<Figure size 432x288 with 1 Axes>"
      ]
     },
     "metadata": {
      "needs_background": "light"
     },
     "output_type": "display_data"
    }
   ],
   "source": [
    "plt.plot(pred_target[:,0], label= 'bolt1')\n",
    "plt.plot(pred_target[:,1], label= 'bolt2')\n",
    "plt.plot(pred_target[:,2], label= 'bolt3')\n",
    "plt.plot(pred_target[:,3], label= 'bolt4')\n",
    "plt.plot(pred_target[:,4], label= 'bolt5')\n",
    "plt.plot(pred_target[:,5], label= 'bolt6')\n",
    "plt.legend()\n"
   ]
  },
  {
   "cell_type": "code",
   "execution_count": 35,
   "id": "moral-theorem",
   "metadata": {},
   "outputs": [],
   "source": [
    "# save file \n",
    "\n",
    "predict_data = pd.read_parquet('data/prediction_input.parquet', engine= 'fastparquet')\n",
    "\n",
    "df = pd.DataFrame(pred_target ,\n",
    "                  index=predict_data.index[:] , columns=['Bolt_1_Tensile' ,'Bolt_2_Tensile','Bolt_3_Tensile' ,\n",
    "                   'Bolt_4_Tensile' ,'Bolt_5_Tensile' , 'Bolt_6_Tensile'])\n",
    "\n",
    "os.makedirs('output', exist_ok=True)  \n",
    "df.to_csv('output/out.csv', index=True, index_label= 'timepoints')"
   ]
  },
  {
   "cell_type": "code",
   "execution_count": 36,
   "id": "departmental-circumstances",
   "metadata": {},
   "outputs": [
    {
     "name": "stdout",
     "output_type": "stream",
     "text": [
      "                     Bolt_1_Tensile  Bolt_2_Tensile  Bolt_3_Tensile  \\\n",
      "timepoints                                                            \n",
      "1971-01-25 11:06:49     1634.250610     1504.057861     1702.240601   \n",
      "1971-01-25 11:06:50     1634.165039     1504.005127     1702.192383   \n",
      "1971-01-25 11:06:51     1634.104248     1503.967407     1702.158203   \n",
      "1971-01-25 11:06:52     1634.056763     1503.938110     1702.131470   \n",
      "1971-01-25 11:06:53     1634.019043     1503.914673     1702.110352   \n",
      "\n",
      "                     Bolt_4_Tensile  Bolt_5_Tensile  Bolt_6_Tensile  \n",
      "timepoints                                                           \n",
      "1971-01-25 11:06:49     1603.174194     1636.454102     1688.454590  \n",
      "1971-01-25 11:06:50     1603.171631     1636.456787     1688.417725  \n",
      "1971-01-25 11:06:51     1603.169678     1636.458496     1688.391235  \n",
      "1971-01-25 11:06:52     1603.168213     1636.459961     1688.370728  \n",
      "1971-01-25 11:06:53     1603.167114     1636.461182     1688.354370  \n"
     ]
    }
   ],
   "source": [
    "print(df.head())"
   ]
  },
  {
   "cell_type": "code",
   "execution_count": null,
   "id": "brave-production",
   "metadata": {},
   "outputs": [],
   "source": []
  }
 ],
 "metadata": {
  "kernelspec": {
   "display_name": "Python [conda env:pyt] *",
   "language": "python",
   "name": "conda-env-pyt-py"
  },
  "language_info": {
   "codemirror_mode": {
    "name": "ipython",
    "version": 3
   },
   "file_extension": ".py",
   "mimetype": "text/x-python",
   "name": "python",
   "nbconvert_exporter": "python",
   "pygments_lexer": "ipython3",
   "version": "3.9.1"
  }
 },
 "nbformat": 4,
 "nbformat_minor": 5
}
